{
 "cells": [
  {
   "cell_type": "markdown",
   "id": "a38adcca-c2df-4555-a878-a7c4dc551868",
   "metadata": {},
   "source": [
    "# Generate an example embedding vector\n"
   ]
  },
  {
   "cell_type": "code",
   "execution_count": null,
   "id": "bd66de03-f4a5-4dc3-97cf-bb3483628bdb",
   "metadata": {},
   "outputs": [],
   "source": [
    "import ollama\n",
    "\n",
    "EMBEDDING_MODEL = \"nomic-embed-text\"\n",
    "\n",
    "response = ollama.embeddings(\n",
    "    prompt=\"This is an example sentence used for embedding.\", model=EMBEDDING_MODEL\n",
    ")\n",
    "print(f\"Embedding vector dimensions: {len(response['embedding'])}\")"
   ]
  },
  {
   "cell_type": "code",
   "execution_count": null,
   "id": "5daa0b34-dfb5-495c-b143-541fc4983398",
   "metadata": {},
   "outputs": [],
   "source": [
    "print(response[\"embedding\"])"
   ]
  },
  {
   "cell_type": "code",
   "execution_count": null,
   "id": "a4b9093c-56dc-4f0c-a184-cc604c3eface",
   "metadata": {},
   "outputs": [],
   "source": []
  }
 ],
 "metadata": {
  "kernelspec": {
   "display_name": "Python 3 (ipykernel)",
   "language": "python",
   "name": "python3"
  },
  "language_info": {
   "codemirror_mode": {
    "name": "ipython",
    "version": 3
   },
   "file_extension": ".py",
   "mimetype": "text/x-python",
   "name": "python",
   "nbconvert_exporter": "python",
   "pygments_lexer": "ipython3",
   "version": "3.10.9"
  }
 },
 "nbformat": 4,
 "nbformat_minor": 5
}
